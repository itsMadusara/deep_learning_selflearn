{
 "cells": [
  {
   "cell_type": "markdown",
   "metadata": {},
   "source": [
    "**Understanding Core Keras API**"
   ]
  },
  {
   "cell_type": "code",
   "execution_count": 3,
   "metadata": {},
   "outputs": [],
   "source": [
    "from tensorflow import keras\n",
    "import tensorflow as tf\n",
    "\n",
    "class simpleDense(keras.layers.Layer):\n",
    "    def __init__(self, units, activation=None):\n",
    "        super().__init__()\n",
    "        self.units = units\n",
    "        self.activation = activation\n",
    "\n",
    "    def build(self, input_shape):\n",
    "        input_dim = input_shape[-1]\n",
    "        self.W = self.add_weight(shape = (input_dim, self.units),\n",
    "                                initializer = \"random_normal\")\n",
    "        self.b = self.add_weight(shape=(self.units,),\n",
    "                                initializer=\"zeros\")\n",
    "    \n",
    "    def call(self, inputs):\n",
    "        y = tf.matmul(inputs, self.W) + self.b\n",
    "        if self.activation is not None:\n",
    "            y = self.activation(y)\n",
    "        return y"
   ]
  },
  {
   "cell_type": "code",
   "execution_count": 4,
   "metadata": {},
   "outputs": [
    {
     "name": "stdout",
     "output_type": "stream",
     "text": [
      "(2, 32)\n",
      "tf.Tensor(\n",
      "[[0.27771106 0.         0.         2.3353026  0.         0.\n",
      "  1.6257871  1.3640597  0.60684    0.         0.6595684  4.467572\n",
      "  0.32980996 0.         0.12244934 1.5534898  0.         0.\n",
      "  1.2624545  0.         0.         0.30687618 0.         0.\n",
      "  0.         2.6932495  0.         0.55727327 0.         0.6856681\n",
      "  0.         0.39199322]\n",
      " [0.27771106 0.         0.         2.3353026  0.         0.\n",
      "  1.6257871  1.3640597  0.60684    0.         0.6595684  4.467572\n",
      "  0.32980996 0.         0.12244934 1.5534898  0.         0.\n",
      "  1.2624545  0.         0.         0.30687618 0.         0.\n",
      "  0.         2.6932495  0.         0.55727327 0.         0.6856681\n",
      "  0.         0.39199322]], shape=(2, 32), dtype=float32)\n"
     ]
    }
   ],
   "source": [
    "my_dense = simpleDense(units=32, activation=tf.nn.relu)\n",
    "input_tensor = tf.ones(shape = (2, 763))\n",
    "output_tensor = my_dense(input_tensor)\n",
    "print(output_tensor.shape)\n",
    "print(output_tensor)"
   ]
  },
  {
   "cell_type": "code",
   "execution_count": 7,
   "metadata": {},
   "outputs": [],
   "source": [
    "model = keras.Sequential([\n",
    "    simpleDense(32, activation=\"relu\"),\n",
    "    simpleDense(64, activation=\"relu\"),\n",
    "    simpleDense(32, activation=\"relu\"),\n",
    "    simpleDense(10, activation=\"softmax\")\n",
    "])"
   ]
  },
  {
   "cell_type": "code",
   "execution_count": 8,
   "metadata": {},
   "outputs": [],
   "source": [
    "model.compile(\n",
    "    optimizer=\"rmsprop\",\n",
    "    loss=\",eam_squared_error\",\n",
    "    metrics=[\"accuracy\"]\n",
    ")"
   ]
  },
  {
   "cell_type": "code",
   "execution_count": 11,
   "metadata": {},
   "outputs": [
    {
     "name": "stdout",
     "output_type": "stream",
     "text": [
      "Epoch 1/5\n",
      "5/5 [==============================] - 1s 42ms/step - loss: 0.9474 - binary_accuracy: 0.0000e+00 - val_loss: 0.2021 - val_binary_accuracy: 0.0000e+00\n",
      "Epoch 2/5\n",
      "5/5 [==============================] - 0s 7ms/step - loss: 0.1865 - binary_accuracy: 0.0000e+00 - val_loss: 0.3092 - val_binary_accuracy: 0.0000e+00\n",
      "Epoch 3/5\n",
      "5/5 [==============================] - 0s 8ms/step - loss: 0.1654 - binary_accuracy: 0.0000e+00 - val_loss: 0.1571 - val_binary_accuracy: 0.0000e+00\n",
      "Epoch 4/5\n",
      "5/5 [==============================] - 0s 7ms/step - loss: 0.1336 - binary_accuracy: 0.0000e+00 - val_loss: 0.3984 - val_binary_accuracy: 0.0000e+00\n",
      "Epoch 5/5\n",
      "5/5 [==============================] - 0s 7ms/step - loss: 0.2226 - binary_accuracy: 0.0000e+00 - val_loss: 0.2727 - val_binary_accuracy: 0.0000e+00\n"
     ]
    },
    {
     "data": {
      "text/plain": [
       "<keras.callbacks.History at 0x15b8b537a30>"
      ]
     },
     "execution_count": 11,
     "metadata": {},
     "output_type": "execute_result"
    }
   ],
   "source": [
    "import numpy as np\n",
    "\n",
    "inputs = np.random.random((100, 10))  # shape (100, 10)\n",
    "targets = np.random.random((100, 1))  # shape (100, 1)\n",
    "model = keras.Sequential([keras.layers.Dense(1)])\n",
    "model.compile(optimizer=keras.optimizers.RMSprop(learning_rate=0.1),\n",
    "            loss=keras.losses.MeanSquaredError(),\n",
    "            metrics=[keras.metrics.BinaryAccuracy()])\n",
    "indices_permutation = np.random.permutation(len(inputs)) \n",
    "shuffled_inputs = inputs[indices_permutation] \n",
    "shuffled_targets = targets[indices_permutation] \n",
    "num_validation_samples = int(0.3 * len(inputs)) \n",
    "val_inputs = shuffled_inputs[:num_validation_samples] \n",
    "val_targets = shuffled_targets[:num_validation_samples] \n",
    "training_inputs = shuffled_inputs[num_validation_samples:] \n",
    "training_targets = shuffled_targets[num_validation_samples:] \n",
    "model.fit(\n",
    "    training_inputs, \n",
    "    training_targets, \n",
    "    epochs=5,\n",
    "    batch_size=16,\n",
    "    validation_data=(val_inputs, val_targets) \n",
    ")"
   ]
  },
  {
   "cell_type": "code",
   "execution_count": 12,
   "metadata": {},
   "outputs": [
    {
     "name": "stdout",
     "output_type": "stream",
     "text": [
      "1/1 [==============================] - 0s 14ms/step - loss: 0.2727 - binary_accuracy: 0.0000e+00\n"
     ]
    }
   ],
   "source": [
    "loss_and_metrics = model.evaluate(val_inputs, val_targets, batch_size=128)"
   ]
  },
  {
   "cell_type": "code",
   "execution_count": 13,
   "metadata": {},
   "outputs": [
    {
     "name": "stdout",
     "output_type": "stream",
     "text": [
      "1/1 [==============================] - 2s 2s/step\n"
     ]
    }
   ],
   "source": [
    "new_inputs = np.random.random((100, 10))\n",
    "predictions = model.predict(new_inputs, batch_size=128)"
   ]
  },
  {
   "cell_type": "code",
   "execution_count": 14,
   "metadata": {},
   "outputs": [
    {
     "data": {
      "text/plain": [
       "array([[ 0.22925842],\n",
       "       [-0.24297035],\n",
       "       [-0.03481445],\n",
       "       [ 0.2597849 ],\n",
       "       [ 0.31463897],\n",
       "       [-0.17664242],\n",
       "       [ 0.13687909],\n",
       "       [ 0.03852267],\n",
       "       [ 0.15591592],\n",
       "       [ 0.21632901],\n",
       "       [ 0.1113967 ],\n",
       "       [-0.12347446],\n",
       "       [-0.04481683],\n",
       "       [ 0.16614518],\n",
       "       [-0.04193142],\n",
       "       [ 0.11441633],\n",
       "       [ 0.07568233],\n",
       "       [ 0.2352553 ],\n",
       "       [-0.02062487],\n",
       "       [ 0.20457062],\n",
       "       [ 0.32220906],\n",
       "       [ 0.1732921 ],\n",
       "       [ 0.0510506 ],\n",
       "       [ 0.2821345 ],\n",
       "       [ 0.208316  ],\n",
       "       [-0.02464227],\n",
       "       [-0.0877104 ],\n",
       "       [ 0.14274657],\n",
       "       [ 0.10722153],\n",
       "       [ 0.1641818 ],\n",
       "       [-0.0963276 ],\n",
       "       [ 0.04891703],\n",
       "       [-0.06294549],\n",
       "       [ 0.21394235],\n",
       "       [ 0.18423572],\n",
       "       [ 0.12976894],\n",
       "       [ 0.38712907],\n",
       "       [ 0.04668024],\n",
       "       [-0.10699186],\n",
       "       [ 0.31500858],\n",
       "       [ 0.04816339],\n",
       "       [-0.05258905],\n",
       "       [ 0.18307203],\n",
       "       [-0.07389667],\n",
       "       [ 0.15439789],\n",
       "       [ 0.04917444],\n",
       "       [ 0.3612146 ],\n",
       "       [ 0.19963929],\n",
       "       [-0.10562063],\n",
       "       [ 0.07801939],\n",
       "       [ 0.05693334],\n",
       "       [ 0.05949351],\n",
       "       [-0.06223344],\n",
       "       [-0.03941671],\n",
       "       [ 0.01268772],\n",
       "       [-0.03048299],\n",
       "       [ 0.17514107],\n",
       "       [ 0.03621235],\n",
       "       [ 0.11154389],\n",
       "       [ 0.02162794],\n",
       "       [-0.14423606],\n",
       "       [ 0.16498014],\n",
       "       [ 0.01173218],\n",
       "       [ 0.15727109],\n",
       "       [-0.00307722],\n",
       "       [-0.04255529],\n",
       "       [ 0.28445953],\n",
       "       [ 0.21799088],\n",
       "       [-0.05835897],\n",
       "       [-0.06244179],\n",
       "       [-0.05339975],\n",
       "       [ 0.22258875],\n",
       "       [ 0.10435269],\n",
       "       [ 0.05353285],\n",
       "       [ 0.25506088],\n",
       "       [ 0.23552704],\n",
       "       [-0.02198057],\n",
       "       [ 0.2612901 ],\n",
       "       [-0.04376676],\n",
       "       [ 0.03454191],\n",
       "       [ 0.02212177],\n",
       "       [ 0.01871147],\n",
       "       [ 0.1277737 ],\n",
       "       [-0.11141624],\n",
       "       [ 0.21545383],\n",
       "       [ 0.00475322],\n",
       "       [-0.15171453],\n",
       "       [ 0.16086152],\n",
       "       [ 0.17230435],\n",
       "       [ 0.21596265],\n",
       "       [-0.06116182],\n",
       "       [ 0.05418309],\n",
       "       [ 0.05924073],\n",
       "       [ 0.20406905],\n",
       "       [-0.032188  ],\n",
       "       [ 0.15708503],\n",
       "       [ 0.31367368],\n",
       "       [ 0.02959041],\n",
       "       [ 0.0457954 ],\n",
       "       [-0.02911343]], dtype=float32)"
      ]
     },
     "execution_count": 14,
     "metadata": {},
     "output_type": "execute_result"
    }
   ],
   "source": [
    "predictions"
   ]
  }
 ],
 "metadata": {
  "kernelspec": {
   "display_name": "Python 3",
   "language": "python",
   "name": "python3"
  },
  "language_info": {
   "codemirror_mode": {
    "name": "ipython",
    "version": 3
   },
   "file_extension": ".py",
   "mimetype": "text/x-python",
   "name": "python",
   "nbconvert_exporter": "python",
   "pygments_lexer": "ipython3",
   "version": "3.10.13"
  }
 },
 "nbformat": 4,
 "nbformat_minor": 2
}
