{
 "cells": [
  {
   "cell_type": "markdown",
   "metadata": {},
   "source": [
    "#### Improving model's fit"
   ]
  },
  {
   "cell_type": "code",
   "execution_count": 5,
   "metadata": {},
   "outputs": [],
   "source": [
    "from tensorflow.keras.datasets import mnist\n",
    "from tensorflow import keras\n",
    "from tensorflow.keras import layers"
   ]
  },
  {
   "cell_type": "code",
   "execution_count": 6,
   "metadata": {},
   "outputs": [
    {
     "name": "stdout",
     "output_type": "stream",
     "text": [
      "Epoch 1/10\n",
      "375/375 [==============================] - 2s 3ms/step - loss: 643.0966 - accuracy: 0.3695 - val_loss: 2.2274 - val_accuracy: 0.2332\n",
      "Epoch 2/10\n",
      "375/375 [==============================] - 1s 2ms/step - loss: 4.2956 - accuracy: 0.2385 - val_loss: 2.3791 - val_accuracy: 0.2148\n",
      "Epoch 3/10\n",
      "375/375 [==============================] - 1s 2ms/step - loss: 2.9902 - accuracy: 0.2332 - val_loss: 2.3215 - val_accuracy: 0.1685\n",
      "Epoch 4/10\n",
      "375/375 [==============================] - 1s 2ms/step - loss: 3.2629 - accuracy: 0.2321 - val_loss: 2.5244 - val_accuracy: 0.2972\n",
      "Epoch 5/10\n",
      "375/375 [==============================] - 1s 3ms/step - loss: 2.9854 - accuracy: 0.2418 - val_loss: 2.1908 - val_accuracy: 0.1842\n",
      "Epoch 6/10\n",
      "375/375 [==============================] - 1s 3ms/step - loss: 2.4402 - accuracy: 0.2271 - val_loss: 2.1941 - val_accuracy: 0.2888\n",
      "Epoch 7/10\n",
      "375/375 [==============================] - 1s 4ms/step - loss: 2.5838 - accuracy: 0.2483 - val_loss: 2.0112 - val_accuracy: 0.2783\n",
      "Epoch 8/10\n",
      "375/375 [==============================] - 1s 4ms/step - loss: 2.3590 - accuracy: 0.2660 - val_loss: 2.6069 - val_accuracy: 0.2892\n",
      "Epoch 9/10\n",
      "375/375 [==============================] - 1s 3ms/step - loss: 2.6503 - accuracy: 0.2725 - val_loss: 2.0180 - val_accuracy: 0.2583\n",
      "Epoch 10/10\n",
      "375/375 [==============================] - 2s 4ms/step - loss: 2.7334 - accuracy: 0.2840 - val_loss: 2.3877 - val_accuracy: 0.3106\n"
     ]
    },
    {
     "data": {
      "text/plain": [
       "<keras.callbacks.History at 0x2848111b970>"
      ]
     },
     "execution_count": 6,
     "metadata": {},
     "output_type": "execute_result"
    }
   ],
   "source": [
    "(train_images, train_labels), _ = mnist.load_data()\n",
    "train_images = train_images.reshape((60000, 28 * 28))\n",
    "train_images = train_images.astype(\"float32\") / 255\n",
    "model = keras.Sequential([layers.Dense(512, activation=\"relu\"),\n",
    "                          layers.Dense(10, activation=\"softmax\")])\n",
    "model.compile(optimizer=keras.optimizers.RMSprop(1.),\n",
    "              loss=\"sparse_categorical_crossentropy\",\n",
    "              metrics=[\"accuracy\"])\n",
    "model.fit(train_images, \n",
    "          train_labels, \n",
    "          epochs=10, \n",
    "          batch_size=128, \n",
    "          validation_split=0.2)"
   ]
  },
  {
   "cell_type": "code",
   "execution_count": 7,
   "metadata": {},
   "outputs": [
    {
     "name": "stdout",
     "output_type": "stream",
     "text": [
      "Epoch 1/10\n",
      "375/375 [==============================] - 1s 3ms/step - loss: 0.3556 - accuracy: 0.9148 - val_loss: 0.1629 - val_accuracy: 0.9546\n",
      "Epoch 2/10\n",
      "375/375 [==============================] - 1s 3ms/step - loss: 0.1404 - accuracy: 0.9628 - val_loss: 0.1478 - val_accuracy: 0.9672\n",
      "Epoch 3/10\n",
      "375/375 [==============================] - 1s 3ms/step - loss: 0.1157 - accuracy: 0.9725 - val_loss: 0.1645 - val_accuracy: 0.9692\n",
      "Epoch 4/10\n",
      "375/375 [==============================] - 1s 3ms/step - loss: 0.1004 - accuracy: 0.9782 - val_loss: 0.2035 - val_accuracy: 0.9663\n",
      "Epoch 5/10\n",
      "375/375 [==============================] - 1s 2ms/step - loss: 0.0836 - accuracy: 0.9822 - val_loss: 0.1975 - val_accuracy: 0.9733\n",
      "Epoch 6/10\n",
      "375/375 [==============================] - 1s 2ms/step - loss: 0.0752 - accuracy: 0.9851 - val_loss: 0.2414 - val_accuracy: 0.9685\n",
      "Epoch 7/10\n",
      "375/375 [==============================] - 1s 3ms/step - loss: 0.0752 - accuracy: 0.9870 - val_loss: 0.2184 - val_accuracy: 0.9739\n",
      "Epoch 8/10\n",
      "375/375 [==============================] - 1s 3ms/step - loss: 0.0685 - accuracy: 0.9878 - val_loss: 0.2841 - val_accuracy: 0.9708\n",
      "Epoch 9/10\n",
      "375/375 [==============================] - 1s 2ms/step - loss: 0.0539 - accuracy: 0.9901 - val_loss: 0.2450 - val_accuracy: 0.9756\n",
      "Epoch 10/10\n",
      "375/375 [==============================] - 1s 3ms/step - loss: 0.0510 - accuracy: 0.9906 - val_loss: 0.3079 - val_accuracy: 0.9737\n"
     ]
    },
    {
     "data": {
      "text/plain": [
       "<keras.callbacks.History at 0x284fb376140>"
      ]
     },
     "execution_count": 7,
     "metadata": {},
     "output_type": "execute_result"
    }
   ],
   "source": [
    "(train_images, train_labels), _ = mnist.load_data()\n",
    "train_images = train_images.reshape((60000, 28 * 28))\n",
    "train_images = train_images.astype(\"float32\") / 255\n",
    "model = keras.Sequential([layers.Dense(512, activation=\"relu\"),\n",
    "                          layers.Dense(10, activation=\"softmax\")])\n",
    "model.compile(optimizer=keras.optimizers.RMSprop(1e-2),\n",
    "              loss=\"sparse_categorical_crossentropy\",\n",
    "              metrics=[\"accuracy\"])\n",
    "model.fit(train_images, \n",
    "          train_labels, \n",
    "          epochs=10, \n",
    "          batch_size=128, \n",
    "          validation_split=0.2)"
   ]
  },
  {
   "cell_type": "markdown",
   "metadata": {},
   "source": [
    "Lowering the learning rate make the model have more accuracy and less loss showing that less learning rate is good here to training the data to become a fit to the data. Yet there might be instances lowering the rate will take more time and resources so we should be aware of it."
   ]
  }
 ],
 "metadata": {
  "kernelspec": {
   "display_name": "Python 3",
   "language": "python",
   "name": "python3"
  },
  "language_info": {
   "codemirror_mode": {
    "name": "ipython",
    "version": 3
   },
   "file_extension": ".py",
   "mimetype": "text/x-python",
   "name": "python",
   "nbconvert_exporter": "python",
   "pygments_lexer": "ipython3",
   "version": "3.10.13"
  }
 },
 "nbformat": 4,
 "nbformat_minor": 2
}
