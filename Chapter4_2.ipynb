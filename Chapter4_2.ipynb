{
 "cells": [
  {
   "cell_type": "code",
   "execution_count": 1,
   "metadata": {},
   "outputs": [],
   "source": [
    "from tensorflow.keras.datasets import reuters\n",
    "(training_data, training_labels), (test_data, test_labels) = reuters.load_data(num_words=10000)"
   ]
  },
  {
   "cell_type": "code",
   "execution_count": 2,
   "metadata": {},
   "outputs": [
    {
     "name": "stdout",
     "output_type": "stream",
     "text": [
      "? the the a not 3 move in by should 22 in rebates dollar 000 reuters four after about and may in on february said on some reuter after about revs that secretary at and which to but a right would sale 31 said end said been for reuter that earlier for reuter and which mln representation improved noted said domestic said high for reuter that under loss for reuter 000 a sources versus after about last with sale 2 was 12 said co reuter 1 vs\n"
     ]
    }
   ],
   "source": [
    "word_index = reuters.get_word_index()\n",
    "labels_revered = dict([(value, key) for (key, value) in word_index.items()])\n",
    "decoded_label = \" \".join(labels_revered.get(i-1, \"?\") for i in training_data[0])\n",
    "print(decoded_label)"
   ]
  },
  {
   "cell_type": "code",
   "execution_count": 3,
   "metadata": {},
   "outputs": [
    {
     "name": "stdout",
     "output_type": "stream",
     "text": [
      "3\n"
     ]
    }
   ],
   "source": [
    "print(test_labels[0])"
   ]
  },
  {
   "cell_type": "code",
   "execution_count": 4,
   "metadata": {},
   "outputs": [],
   "source": [
    "import numpy as np\n",
    "def vectorize_sequences(sequences, dimension=10000): \n",
    "    results = np.zeros((len(sequences), dimension))\n",
    "    for i, sequence in enumerate(sequences):\n",
    "        for j in sequence:\n",
    "            results[i, j] = 1.\n",
    "    return results\n",
    "x_train = vectorize_sequences(training_data)\n",
    "x_test = vectorize_sequences(test_data)"
   ]
  },
  {
   "cell_type": "code",
   "execution_count": 5,
   "metadata": {},
   "outputs": [],
   "source": [
    "def toOneHot(labels, dimention=46):\n",
    "    results = np.zeros((len(labels), dimention))\n",
    "    for i, label in enumerate(labels):\n",
    "        results[i, label] = 1.\n",
    "    return results\n",
    "y_train = toOneHot(training_labels)\n",
    "y_test = toOneHot(test_labels)"
   ]
  },
  {
   "cell_type": "code",
   "execution_count": null,
   "metadata": {},
   "outputs": [],
   "source": [
    "#An alternative way to do the same as the last cell\n",
    "from tensorflow.keras.utils import to_categorical\n",
    "y_train = to_categorical(train_labels)\n",
    "y_test = to_categorical(test_labels)"
   ]
  },
  {
   "cell_type": "code",
   "execution_count": 6,
   "metadata": {},
   "outputs": [],
   "source": [
    "from tensorflow import keras\n",
    "from tensorflow.keras import layers\n",
    "model = keras.Sequential([\n",
    "    layers.Dense(64, activation=\"relu\"),\n",
    "    layers.Dense(64, activation=\"relu\"),\n",
    "    layers.Dense(46, activation=\"softmax\")\n",
    "])"
   ]
  },
  {
   "cell_type": "code",
   "execution_count": 7,
   "metadata": {},
   "outputs": [],
   "source": [
    "model.compile(optimizer=\"rmsprop\",\n",
    "              loss=\"categorical_crossentropy\",\n",
    "              metrics=[\"accuracy\"])"
   ]
  },
  {
   "cell_type": "code",
   "execution_count": 8,
   "metadata": {},
   "outputs": [
    {
     "name": "stdout",
     "output_type": "stream",
     "text": [
      "Epoch 1/15\n",
      "18/18 [==============================] - 2s 32ms/step - loss: 2.5476 - accuracy: 0.5510 - val_loss: 1.6571 - val_accuracy: 0.6607\n",
      "Epoch 2/15\n",
      "18/18 [==============================] - 0s 8ms/step - loss: 1.3176 - accuracy: 0.7249 - val_loss: 1.2765 - val_accuracy: 0.7226\n",
      "Epoch 3/15\n",
      "18/18 [==============================] - 0s 9ms/step - loss: 0.9609 - accuracy: 0.7989 - val_loss: 1.1276 - val_accuracy: 0.7484\n",
      "Epoch 4/15\n",
      "18/18 [==============================] - 0s 8ms/step - loss: 0.7404 - accuracy: 0.8460 - val_loss: 1.0267 - val_accuracy: 0.7747\n",
      "Epoch 5/15\n",
      "18/18 [==============================] - 0s 8ms/step - loss: 0.5801 - accuracy: 0.8786 - val_loss: 0.9885 - val_accuracy: 0.7752\n",
      "Epoch 6/15\n",
      "18/18 [==============================] - 0s 9ms/step - loss: 0.4589 - accuracy: 0.9045 - val_loss: 0.9774 - val_accuracy: 0.7841\n",
      "Epoch 7/15\n",
      "18/18 [==============================] - 0s 9ms/step - loss: 0.3682 - accuracy: 0.9227 - val_loss: 0.9265 - val_accuracy: 0.7943\n",
      "Epoch 8/15\n",
      "18/18 [==============================] - 0s 10ms/step - loss: 0.3041 - accuracy: 0.9330 - val_loss: 0.9402 - val_accuracy: 0.7903\n",
      "Epoch 9/15\n",
      "18/18 [==============================] - 0s 8ms/step - loss: 0.2531 - accuracy: 0.9424 - val_loss: 0.9312 - val_accuracy: 0.7992\n",
      "Epoch 10/15\n",
      "18/18 [==============================] - 0s 9ms/step - loss: 0.2152 - accuracy: 0.9482 - val_loss: 0.9745 - val_accuracy: 0.7947\n",
      "Epoch 11/15\n",
      "18/18 [==============================] - 0s 9ms/step - loss: 0.1926 - accuracy: 0.9491 - val_loss: 1.0163 - val_accuracy: 0.7850\n",
      "Epoch 12/15\n",
      "18/18 [==============================] - 0s 9ms/step - loss: 0.1755 - accuracy: 0.9508 - val_loss: 0.9956 - val_accuracy: 0.7965\n",
      "Epoch 13/15\n",
      "18/18 [==============================] - 0s 8ms/step - loss: 0.1554 - accuracy: 0.9536 - val_loss: 1.0150 - val_accuracy: 0.7965\n",
      "Epoch 14/15\n",
      "18/18 [==============================] - 0s 9ms/step - loss: 0.1473 - accuracy: 0.9536 - val_loss: 1.0845 - val_accuracy: 0.7894\n",
      "Epoch 15/15\n",
      "18/18 [==============================] - 0s 8ms/step - loss: 0.1372 - accuracy: 0.9564 - val_loss: 1.0701 - val_accuracy: 0.7907\n"
     ]
    }
   ],
   "source": [
    "history = model.fit(x_train,\n",
    "                    y_train,\n",
    "                    epochs=15,\n",
    "                    batch_size=512,\n",
    "                    validation_data=(x_test, y_test))"
   ]
  },
  {
   "cell_type": "code",
   "execution_count": 11,
   "metadata": {},
   "outputs": [
    {
     "name": "stdout",
     "output_type": "stream",
     "text": [
      "Epoch 1/9\n",
      "18/18 [==============================] - 0s 7ms/step - loss: 2.6082 - accuracy: 0.5272\n",
      "Epoch 2/9\n",
      "18/18 [==============================] - 0s 8ms/step - loss: 1.3988 - accuracy: 0.7129\n",
      "Epoch 3/9\n",
      "18/18 [==============================] - 0s 7ms/step - loss: 1.0415 - accuracy: 0.7741\n",
      "Epoch 4/9\n",
      "18/18 [==============================] - 0s 7ms/step - loss: 0.8142 - accuracy: 0.8302\n",
      "Epoch 5/9\n",
      "18/18 [==============================] - 0s 7ms/step - loss: 0.6527 - accuracy: 0.8651\n",
      "Epoch 6/9\n",
      "18/18 [==============================] - 0s 8ms/step - loss: 0.5211 - accuracy: 0.8928\n",
      "Epoch 7/9\n",
      "18/18 [==============================] - 0s 8ms/step - loss: 0.4221 - accuracy: 0.9130\n",
      "Epoch 8/9\n",
      "18/18 [==============================] - 0s 7ms/step - loss: 0.3454 - accuracy: 0.9267\n",
      "Epoch 9/9\n",
      "18/18 [==============================] - 0s 5ms/step - loss: 0.2874 - accuracy: 0.9364\n",
      "71/71 [==============================] - 1s 7ms/step - loss: 0.9721 - accuracy: 0.7965\n",
      "[0.9721489548683167, 0.7965271472930908]\n"
     ]
    }
   ],
   "source": [
    "# When considering the aboveo utput we can see that after 9 epoch the val_accuracy starts to decrease\n",
    "model = keras.Sequential([\n",
    "    layers.Dense(64, activation=\"relu\"),\n",
    "    layers.Dense(64, activation=\"relu\"),\n",
    "    layers.Dense(46, activation=\"softmax\")\n",
    "])\n",
    "\n",
    "model.compile(optimizer=\"rmsprop\",\n",
    "              loss=\"categorical_crossentropy\",\n",
    "              metrics=[\"accuracy\"])\n",
    "\n",
    "model.fit(x_train,\n",
    "          y_train,\n",
    "          epochs=9,\n",
    "          batch_size=512)\n",
    "\n",
    "results = model.evaluate(x_test, y_test)\n",
    "print(results)"
   ]
  },
  {
   "cell_type": "code",
   "execution_count": 12,
   "metadata": {},
   "outputs": [
    {
     "name": "stdout",
     "output_type": "stream",
     "text": [
      "71/71 [==============================] - 1s 7ms/step\n"
     ]
    }
   ],
   "source": [
    "predictions = model.predict(x_test)"
   ]
  },
  {
   "cell_type": "code",
   "execution_count": 16,
   "metadata": {},
   "outputs": [
    {
     "name": "stdout",
     "output_type": "stream",
     "text": [
      "[2.23445764e-04 5.17163309e-04 8.36226827e-05 6.58623099e-01\n",
      " 3.26135606e-01 3.87126893e-05 7.34812580e-04 1.75338762e-04\n",
      " 3.34794703e-03 2.11484075e-05 8.11830523e-06 3.98609875e-04\n",
      " 2.17446897e-04 9.18680016e-05 2.47384160e-04 2.74068607e-05\n",
      " 3.32109188e-03 2.58105661e-04 3.39501974e-04 3.57021025e-04\n",
      " 5.69850788e-04 6.54570758e-04 5.06776814e-06 7.76358822e-04\n",
      " 2.44241573e-06 2.86882656e-04 1.97863537e-05 2.51199599e-05\n",
      " 7.00929450e-05 7.09107917e-05 2.99670588e-04 9.14584598e-05\n",
      " 1.96395649e-05 1.18566895e-05 2.73158221e-04 4.76146715e-06\n",
      " 3.44516011e-04 1.88474834e-04 1.10217639e-04 7.95110129e-04\n",
      " 5.00525948e-06 9.61874957e-06 1.04155833e-05 1.31497247e-04\n",
      " 2.53233065e-05 3.08732233e-05]\n",
      "(46,)\n",
      "1.0000001\n",
      "3\n"
     ]
    }
   ],
   "source": [
    "print(predictions[0])\n",
    "print(predictions[0].shape)\n",
    "print(np.sum(predictions[0]))\n",
    "print(np.argmax(predictions[0]))"
   ]
  }
 ],
 "metadata": {
  "kernelspec": {
   "display_name": "Python 3",
   "language": "python",
   "name": "python3"
  },
  "language_info": {
   "codemirror_mode": {
    "name": "ipython",
    "version": 3
   },
   "file_extension": ".py",
   "mimetype": "text/x-python",
   "name": "python",
   "nbconvert_exporter": "python",
   "pygments_lexer": "ipython3",
   "version": "3.10.13"
  }
 },
 "nbformat": 4,
 "nbformat_minor": 2
}
