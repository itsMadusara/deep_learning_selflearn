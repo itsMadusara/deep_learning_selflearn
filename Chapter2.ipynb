{
 "cells": [
  {
   "cell_type": "markdown",
   "metadata": {},
   "source": [
    "### Tensors\n",
    "Rank 0 tensors are Scalers\\\n",
    "Rank 1 tensors are arrays\\\n",
    "Rank 3 tensors are Matrices\\\n",
    "Tensors contains three key attributes : Axes, Shape, dataType"
   ]
  },
  {
   "cell_type": "code",
   "execution_count": 1,
   "metadata": {},
   "outputs": [
    {
     "name": "stdout",
     "output_type": "stream",
     "text": [
      "axes (0, 1, 2, 3)\n",
      "shape ((), (3,), (3, 3), (3, 3, 3))\n",
      "datatypes (dtype('int32'), dtype('int32'), dtype('int32'), dtype('int32'))\n"
     ]
    }
   ],
   "source": [
    "import numpy as np\n",
    "rank0 = np.array(12)\n",
    "rank1 = np.array([1, 2, 3])\n",
    "rank2 = np.array([[1, 2, 3], [4, 5, 6], [7, 8, 9]])\n",
    "rank3 = np.array([[[1, 2, 3], [4, 5, 6], [7, 8, 9]],\n",
    "                  [[10, 11, 12], [13, 14, 15], [16, 17, 18]],\n",
    "                  [[19, 20, 21], [22, 23, 24], [25, 26, 27]]])\n",
    "axes = rank0.ndim, rank1.ndim, rank2.ndim, rank3.ndim\n",
    "print(\"axes\", axes)\n",
    "shape = rank0.shape, rank1.shape, rank2.shape, rank3.shape\n",
    "print(\"shape\", shape)\n",
    "datatypes = rank0.dtype, rank1.dtype, rank2.dtype, rank3.dtype\n",
    "print(\"datatypes\", datatypes)"
   ]
  },
  {
   "cell_type": "markdown",
   "metadata": {},
   "source": [
    "Example of the available tensor attributes using MNIST database"
   ]
  },
  {
   "cell_type": "code",
   "execution_count": 2,
   "metadata": {},
   "outputs": [
    {
     "name": "stdout",
     "output_type": "stream",
     "text": [
      "(60000, 28, 28)\n",
      "uint8\n"
     ]
    },
    {
     "data": {
      "image/png": "[encoded data removed]",
      "text/plain": [
       "<Figure size 640x480 with 1 Axes>"
      ]
     },
     "metadata": {},
     "output_type": "display_data"
    }
   ],
   "source": [
    "from tensorflow.keras.datasets import mnist\n",
    "import matplotlib.pyplot as plt\n",
    "(train_images, train_labels), (test_images, test_labels) = mnist.load_data()\n",
    "print(train_images.shape)\n",
    "print(train_images.dtype)\n",
    "digit = train_images[4]\n",
    "plt.imshow(digit, cmap=plt.cm.binary)\n",
    "plt.show()"
   ]
  },
  {
   "cell_type": "markdown",
   "metadata": {},
   "source": [
    "**Tensor Slicing** is the process of selecting elements in a tensor.\\\n",
    "**First Axis** of the data tensor is called samples axis.\\\n",
    "When considering batches the first axis is called **Batch Axis**"
   ]
  },
  {
   "cell_type": "code",
   "execution_count": 3,
   "metadata": {},
   "outputs": [
    {
     "name": "stdout",
     "output_type": "stream",
     "text": [
      "(90, 28, 28)\n"
     ]
    }
   ],
   "source": [
    "first_sclice = train_images[10:100, : , :]\n",
    "print(first_sclice.shape)"
   ]
  },
  {
   "cell_type": "markdown",
   "metadata": {},
   "source": [
    "**Data Tensors** will always fall into one of the following categories.\\\n",
    "**Vector Data** - Rank 2 tensor of the shape (Sample, Features). \\\n",
    "**Timeseries data or Sequence data** - Rank 3 tensor of the shape (samples, timesteps, features). \\\n",
    "**Images** - Rank 4 tensors of shape (samples, height, width, channels). \\\n",
    "**Video** - Rank 5 tensor of shape (samples, frames, height, width, channels). "
   ]
  },
  {
   "cell_type": "markdown",
   "metadata": {},
   "source": [
    "**Vector Data Example**\\\n",
    "The data of gender and age of 10,000 people can be stores in a tensor of the shape (10000, 2) where 10,000 arrays of two values are presented."
   ]
  },
  {
   "cell_type": "markdown",
   "metadata": {},
   "source": [
    "**Timeseries Data or Sequence Data Example** \\\n",
    "Recording stock price of a stock is an example. The highest and the lowest price of the minute is recorded in each minute. There are 390 active stock minutes and 250 active stock days. Therefore a tensor of the shape (250,390,2) can be used to store this data."
   ]
  },
  {
   "cell_type": "markdown",
   "metadata": {},
   "source": [
    "**Image Data** \\\n",
    "To store 128 images with 256 x 256 pixels and the RGB representation, we can use a rank 4 tensor of the shape (128,256,256,3)."
   ]
  },
  {
   "cell_type": "markdown",
   "metadata": {},
   "source": [
    "**Video Data** \\\n",
    "A video is a sequence of frames. A YouTube video which have 60 seconds and 144x256 resolution and 4 frames per second can be stores in a rank 5 tensor. So 4 such videos can be stored in a tensor which has the shape of (4, 240, 144, 256, 3)"
   ]
  },
  {
   "cell_type": "markdown",
   "metadata": {},
   "source": [
    "**Tensor Operations** \\\n",
    "All transformations learned by deep neural network can be reduced to tensor operations.\\\n",
    "\n",
    "*Element-wise operations* \\\n",
    "operations that are applied independently to each entry in the tensors being considered. Dot operation and element-wise addition can be considered as examples."
   ]
  },
  {
   "cell_type": "code",
   "execution_count": 4,
   "metadata": {},
   "outputs": [
    {
     "name": "stdout",
     "output_type": "stream",
     "text": [
      "(20, 100)\n",
      "(20, 100)\n",
      "[[1.01555762 0.73690458 0.51387166 ... 1.18858553 1.04847309 1.20867557]\n",
      " [1.1338832  0.9442322  0.34078703 ... 0.84699975 0.44849796 0.99036479]\n",
      " [1.14758528 0.5503791  1.21364131 ... 0.92528599 1.03839236 0.88844451]\n",
      " ...\n",
      " [1.45416179 0.78196594 1.28614945 ... 0.87333899 1.07420109 0.43337333]\n",
      " [1.0228646  1.17655137 1.53688811 ... 1.14517991 1.19250443 1.4806409 ]\n",
      " [1.60441231 1.18441738 0.87166395 ... 1.16091929 1.35519129 1.87619353]]\n",
      "[[1.01555762 0.73690458 0.51387166 ... 1.18858553 1.04847309 1.20867557]\n",
      " [1.1338832  0.9442322  0.34078703 ... 0.84699975 0.44849796 0.99036479]\n",
      " [1.14758528 0.5503791  1.21364131 ... 0.92528599 1.03839236 0.88844451]\n",
      " ...\n",
      " [1.45416179 0.78196594 1.28614945 ... 0.87333899 1.07420109 0.43337333]\n",
      " [1.0228646  1.17655137 1.53688811 ... 1.14517991 1.19250443 1.4806409 ]\n",
      " [1.60441231 1.18441738 0.87166395 ... 1.16091929 1.35519129 1.87619353]]\n"
     ]
    }
   ],
   "source": [
    "import numpy as np\n",
    "x = np.random.random((20, 100))\n",
    "y = np.random.random((20, 100))\n",
    "print(x.shape)\n",
    "print(y.shape)\n",
    "\n",
    "z = x + y #Element-wise addition\n",
    "print(z)\n",
    "z = np.maximum(z, 0.) #Element-wise ReLU\n",
    "print(z)"
   ]
  },
  {
   "cell_type": "markdown",
   "metadata": {},
   "source": [
    "**Broadcasting** \\\n",
    "Broadcasting is the process of matching two vectors to be in the same shape when a elementwise operation is performed. This process consists of two steps:\n",
    " - Axes are added to the smaller tensor to match the larger tensors shape.\n",
    " - The smaller tensor is then repeated alongside these axes to match the full shape. \n",
    "\n",
    "The repetition operation is entirely virtual: it happens at the algorithmic level rather than at the memory level. But thinking of the vector being repeated 10 times alongside a new axis is a helpful mental model."
   ]
  },
  {
   "cell_type": "code",
   "execution_count": 5,
   "metadata": {},
   "outputs": [
    {
     "name": "stdout",
     "output_type": "stream",
     "text": [
      "(10,)\n",
      "[0.81442217 0.64900676 0.43480117 0.96927029 0.65364736 0.26079234\n",
      " 0.19150778 0.4286204  0.58008238 0.94428811]\n",
      "\n",
      "(1, 10)\n",
      "[[0.81442217 0.64900676 0.43480117 0.96927029 0.65364736 0.26079234\n",
      "  0.19150778 0.4286204  0.58008238 0.94428811]]\n",
      "\n",
      "(32, 10)\n",
      "[[0.81442217 0.64900676 0.43480117 0.96927029 0.65364736 0.26079234\n",
      "  0.19150778 0.4286204  0.58008238 0.94428811]\n",
      " [0.81442217 0.64900676 0.43480117 0.96927029 0.65364736 0.26079234\n",
      "  0.19150778 0.4286204  0.58008238 0.94428811]\n",
      " [0.81442217 0.64900676 0.43480117 0.96927029 0.65364736 0.26079234\n",
      "  0.19150778 0.4286204  0.58008238 0.94428811]\n",
      " [0.81442217 0.64900676 0.43480117 0.96927029 0.65364736 0.26079234\n",
      "  0.19150778 0.4286204  0.58008238 0.94428811]\n",
      " [0.81442217 0.64900676 0.43480117 0.96927029 0.65364736 0.26079234\n",
      "  0.19150778 0.4286204  0.58008238 0.94428811]\n",
      " [0.81442217 0.64900676 0.43480117 0.96927029 0.65364736 0.26079234\n",
      "  0.19150778 0.4286204  0.58008238 0.94428811]\n",
      " [0.81442217 0.64900676 0.43480117 0.96927029 0.65364736 0.26079234\n",
      "  0.19150778 0.4286204  0.58008238 0.94428811]\n",
      " [0.81442217 0.64900676 0.43480117 0.96927029 0.65364736 0.26079234\n",
      "  0.19150778 0.4286204  0.58008238 0.94428811]\n",
      " [0.81442217 0.64900676 0.43480117 0.96927029 0.65364736 0.26079234\n",
      "  0.19150778 0.4286204  0.58008238 0.94428811]\n",
      " [0.81442217 0.64900676 0.43480117 0.96927029 0.65364736 0.26079234\n",
      "  0.19150778 0.4286204  0.58008238 0.94428811]\n",
      " [0.81442217 0.64900676 0.43480117 0.96927029 0.65364736 0.26079234\n",
      "  0.19150778 0.4286204  0.58008238 0.94428811]\n",
      " [0.81442217 0.64900676 0.43480117 0.96927029 0.65364736 0.26079234\n",
      "  0.19150778 0.4286204  0.58008238 0.94428811]\n",
      " [0.81442217 0.64900676 0.43480117 0.96927029 0.65364736 0.26079234\n",
      "  0.19150778 0.4286204  0.58008238 0.94428811]\n",
      " [0.81442217 0.64900676 0.43480117 0.96927029 0.65364736 0.26079234\n",
      "  0.19150778 0.4286204  0.58008238 0.94428811]\n",
      " [0.81442217 0.64900676 0.43480117 0.96927029 0.65364736 0.26079234\n",
      "  0.19150778 0.4286204  0.58008238 0.94428811]\n",
      " [0.81442217 0.64900676 0.43480117 0.96927029 0.65364736 0.26079234\n",
      "  0.19150778 0.4286204  0.58008238 0.94428811]\n",
      " [0.81442217 0.64900676 0.43480117 0.96927029 0.65364736 0.26079234\n",
      "  0.19150778 0.4286204  0.58008238 0.94428811]\n",
      " [0.81442217 0.64900676 0.43480117 0.96927029 0.65364736 0.26079234\n",
      "  0.19150778 0.4286204  0.58008238 0.94428811]\n",
      " [0.81442217 0.64900676 0.43480117 0.96927029 0.65364736 0.26079234\n",
      "  0.19150778 0.4286204  0.58008238 0.94428811]\n",
      " [0.81442217 0.64900676 0.43480117 0.96927029 0.65364736 0.26079234\n",
      "  0.19150778 0.4286204  0.58008238 0.94428811]\n",
      " [0.81442217 0.64900676 0.43480117 0.96927029 0.65364736 0.26079234\n",
      "  0.19150778 0.4286204  0.58008238 0.94428811]\n",
      " [0.81442217 0.64900676 0.43480117 0.96927029 0.65364736 0.26079234\n",
      "  0.19150778 0.4286204  0.58008238 0.94428811]\n",
      " [0.81442217 0.64900676 0.43480117 0.96927029 0.65364736 0.26079234\n",
      "  0.19150778 0.4286204  0.58008238 0.94428811]\n",
      " [0.81442217 0.64900676 0.43480117 0.96927029 0.65364736 0.26079234\n",
      "  0.19150778 0.4286204  0.58008238 0.94428811]\n",
      " [0.81442217 0.64900676 0.43480117 0.96927029 0.65364736 0.26079234\n",
      "  0.19150778 0.4286204  0.58008238 0.94428811]\n",
      " [0.81442217 0.64900676 0.43480117 0.96927029 0.65364736 0.26079234\n",
      "  0.19150778 0.4286204  0.58008238 0.94428811]\n",
      " [0.81442217 0.64900676 0.43480117 0.96927029 0.65364736 0.26079234\n",
      "  0.19150778 0.4286204  0.58008238 0.94428811]\n",
      " [0.81442217 0.64900676 0.43480117 0.96927029 0.65364736 0.26079234\n",
      "  0.19150778 0.4286204  0.58008238 0.94428811]\n",
      " [0.81442217 0.64900676 0.43480117 0.96927029 0.65364736 0.26079234\n",
      "  0.19150778 0.4286204  0.58008238 0.94428811]\n",
      " [0.81442217 0.64900676 0.43480117 0.96927029 0.65364736 0.26079234\n",
      "  0.19150778 0.4286204  0.58008238 0.94428811]\n",
      " [0.81442217 0.64900676 0.43480117 0.96927029 0.65364736 0.26079234\n",
      "  0.19150778 0.4286204  0.58008238 0.94428811]\n",
      " [0.81442217 0.64900676 0.43480117 0.96927029 0.65364736 0.26079234\n",
      "  0.19150778 0.4286204  0.58008238 0.94428811]]\n",
      "\n",
      "True\n"
     ]
    }
   ],
   "source": [
    "import numpy as np\n",
    "x = np.random.random((32,10))\n",
    "y = np.random.random((10,))\n",
    "y1 = y.copy()\n",
    "print(y.shape)\n",
    "print(y)\n",
    "print()\n",
    "\n",
    "y = np.expand_dims(y, axis=0)\n",
    "print(y.shape)\n",
    "print(y)\n",
    "print()\n",
    "\n",
    "y = np.concatenate([y]*32, axis=0)\n",
    "print(y.shape)\n",
    "print(y)\n",
    "print()\n",
    "\n",
    "print(np.array_equal(np.maximum(x, y), np.maximum(x, y1)))"
   ]
  },
  {
   "cell_type": "markdown",
   "metadata": {},
   "source": [
    "**Tensor product or Dot product**\\\n",
    "You can take the dot product of two matrices x and y (dot(x, y)) if and only if x.shape[1]==y.shape[0]. The result is a matrix with shape (x.shape[0], y shape[1]), where the coefficients are the vector products between the rows of x and the columns of y."
   ]
  },
  {
   "cell_type": "code",
   "execution_count": 6,
   "metadata": {},
   "outputs": [
    {
     "name": "stdout",
     "output_type": "stream",
     "text": [
      "(2, 2) (2, 2) (2, 2)\n",
      "[[19 22]\n",
      " [43 50]]\n",
      "\n",
      "[[19. 22.]\n",
      " [43. 50.]]\n"
     ]
    }
   ],
   "source": [
    "def naive_vector_dot(x, y):\n",
    "    assert len(x.shape) == 1 \n",
    "    assert len(y.shape) == 1 \n",
    "    assert x.shape[0] == y.shape[0]\n",
    "    z = 0.\n",
    "    for i in range(x.shape[0]):\n",
    "        z += x[i] * y[i]\n",
    "    return z\n",
    "\n",
    "def naive_matrix_dot(x, y):\n",
    "    assert len(x.shape) == 2 \n",
    "    assert len(y.shape) == 2 \n",
    "    assert x.shape[1] == y.shape[0] \n",
    "    z = np.zeros((x.shape[0], y.shape[1])) \n",
    "    for i in range(x.shape[0]): \n",
    "        for j in range(y.shape[1]): \n",
    "            row_x = x[i, :]\n",
    "            column_y = y[:, j]\n",
    "            z[i, j] = naive_vector_dot(row_x, column_y)\n",
    "    return z\n",
    "\n",
    "import numpy as np\n",
    "x = np.array([[1, 2], [3, 4]])\n",
    "y = np.array([[5, 6], [7, 8]])\n",
    "z = np.dot(x, y)\n",
    "print(x.shape,y.shape,z.shape)\n",
    "print(z)\n",
    "print()\n",
    "\n",
    "z = naive_matrix_dot(x, y)\n",
    "print(z)"
   ]
  },
  {
   "cell_type": "markdown",
   "metadata": {},
   "source": [
    "**Tensor Reshaping**\\\n",
    "Reshaping a tensor means rearranging its rows and columns to match a target shape.  Transposing a matrix means exchanging its rows and its columns, so that x[i, :] becomes x[:, i]"
   ]
  },
  {
   "cell_type": "code",
   "execution_count": 7,
   "metadata": {},
   "outputs": [
    {
     "name": "stdout",
     "output_type": "stream",
     "text": [
      "(64, 3)\n",
      "(192, 1)\n",
      "(1, 192)\n"
     ]
    }
   ],
   "source": [
    "x = np.random.random((64, 3))\n",
    "print(x.shape)\n",
    "x = x.reshape(64*3, 1)\n",
    "print(x.shape)\n",
    "x = np.transpose(x)\n",
    "print(x.shape)"
   ]
  },
  {
   "cell_type": "markdown",
   "metadata": {},
   "source": [
    "**Gradian Tape in tensorflow** \\\n",
    "It’s a Python scope that will “record” the tensor operations that run inside it, in the form of a computation graph. This graph can then be used to retrieve the gradient of any output with respect to any variable or set of variables."
   ]
  },
  {
   "cell_type": "code",
   "execution_count": 4,
   "metadata": {},
   "outputs": [
    {
     "name": "stdout",
     "output_type": "stream",
     "text": [
      "tf.Tensor(2.0, shape=(), dtype=float32)\n"
     ]
    }
   ],
   "source": [
    "import tensorflow as tf\n",
    "x = tf.Variable(10.)\n",
    "with tf.GradientTape() as tape:\n",
    "    y = 2 * x + 3\n",
    "grad_of_y_with_respect_to_x = tape.gradient(y, x)\n",
    "print(grad_of_y_with_respect_to_x)"
   ]
  },
  {
   "cell_type": "markdown",
   "metadata": {},
   "source": [
    "**First Model**"
   ]
  },
  {
   "cell_type": "code",
   "execution_count": 8,
   "metadata": {},
   "outputs": [],
   "source": [
    "from tensorflow.keras.datasets import mnist\n",
    "(train_images, train_labels), (test_images, test_labels) = mnist.load_data()\n",
    "train_images = train_images.reshape((60000, 28*28))\n",
    "train_images = train_images.astype('float32') / 255\n",
    "test_images = test_images.reshape((10000, 28*28))\n",
    "test_images = test_images.astype('float32') / 255"
   ]
  },
  {
   "cell_type": "code",
   "execution_count": 12,
   "metadata": {},
   "outputs": [],
   "source": [
    "import tensorflow.keras as keras\n",
    "from tensorflow.keras import layers\n",
    "model = keras.Sequential([\n",
    " layers.Dense(512, activation=\"relu\"),\n",
    " layers.Dense(10, activation=\"softmax\")\n",
    "])"
   ]
  },
  {
   "cell_type": "code",
   "execution_count": 13,
   "metadata": {},
   "outputs": [],
   "source": [
    "model.compile(optimizer=\"rmsprop\",\n",
    " loss=\"sparse_categorical_crossentropy\",\n",
    " metrics=[\"accuracy\"])"
   ]
  },
  {
   "cell_type": "code",
   "execution_count": 14,
   "metadata": {},
   "outputs": [
    {
     "name": "stdout",
     "output_type": "stream",
     "text": [
      "Epoch 1/5\n",
      "469/469 [==============================] - 7s 7ms/step - loss: 0.2571 - accuracy: 0.9268\n",
      "Epoch 2/5\n",
      "469/469 [==============================] - 3s 7ms/step - loss: 0.1046 - accuracy: 0.9692\n",
      "Epoch 3/5\n",
      "469/469 [==============================] - 3s 7ms/step - loss: 0.0685 - accuracy: 0.9798\n",
      "Epoch 4/5\n",
      "469/469 [==============================] - 4s 8ms/step - loss: 0.0502 - accuracy: 0.9850\n",
      "Epoch 5/5\n",
      "469/469 [==============================] - 4s 7ms/step - loss: 0.0376 - accuracy: 0.9890\n"
     ]
    },
    {
     "data": {
      "text/plain": [
       "<keras.callbacks.History at 0x238a0197910>"
      ]
     },
     "execution_count": 14,
     "metadata": {},
     "output_type": "execute_result"
    }
   ],
   "source": [
    "model.fit(train_images, train_labels, epochs=5, batch_size=128)"
   ]
  },
  {
   "cell_type": "code",
   "execution_count": 27,
   "metadata": {},
   "outputs": [
    {
     "name": "stdout",
     "output_type": "stream",
     "text": [
      "[7 2 1 0 4 1 4 9 5 9]\n",
      "[7 2 1 0 4 1 4 9 5 9]\n",
      "accuracy: 0.98\n"
     ]
    }
   ],
   "source": [
    "import numpy as np\n",
    "predictions = model(test_images)\n",
    "predictions = predictions.numpy()\n",
    "predicted_labels = np.argmax(predictions, axis=1)\n",
    "print(predicted_labels[:10])\n",
    "print(test_labels[:10])\n",
    "matches = predicted_labels == test_labels\n",
    "print(f\"accuracy: {matches.mean():.2f}\")"
   ]
  }
 ],
 "metadata": {
  "kernelspec": {
   "display_name": "Python 3",
   "language": "python",
   "name": "python3"
  },
  "language_info": {
   "codemirror_mode": {
    "name": "ipython",
    "version": 3
   },
   "file_extension": ".py",
   "mimetype": "text/x-python",
   "name": "python",
   "nbconvert_exporter": "python",
   "pygments_lexer": "ipython3",
   "version": "3.10.13"
  }
 },
 "nbformat": 4,
 "nbformat_minor": 2
}
